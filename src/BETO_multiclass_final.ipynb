{
 "cells": [
  {
   "cell_type": "code",
   "execution_count": 20,
   "metadata": {},
   "outputs": [],
   "source": [
    "import pandas as pd\n",
    "import numpy as np\n",
    "\n",
    "import torch\n",
    "from torch.utils.data import TensorDataset, DataLoader, RandomSampler, SequentialSampler\n",
    "\n",
    "from transformers import BertTokenizer, BertForSequenceClassification\n",
    "from transformers import AdamW, get_linear_schedule_with_warmup\n",
    "\n",
    "from sklearn.model_selection import train_test_split\n",
    "from sklearn.metrics import f1_score, accuracy_score, precision_score, recall_score\n",
    "\n",
    "from tqdm import trange\n",
    "\n",
    "import random\n",
    "\n",
    "torch.cuda.empty_cache()"
   ]
  },
  {
   "cell_type": "code",
   "execution_count": 10,
   "metadata": {},
   "outputs": [
    {
     "data": {
      "text/html": [
       "<div>\n",
       "<style scoped>\n",
       "    .dataframe tbody tr th:only-of-type {\n",
       "        vertical-align: middle;\n",
       "    }\n",
       "\n",
       "    .dataframe tbody tr th {\n",
       "        vertical-align: top;\n",
       "    }\n",
       "\n",
       "    .dataframe thead th {\n",
       "        text-align: right;\n",
       "    }\n",
       "</style>\n",
       "<table border=\"1\" class=\"dataframe\">\n",
       "  <thead>\n",
       "    <tr style=\"text-align: right;\">\n",
       "      <th></th>\n",
       "      <th>tweets</th>\n",
       "      <th>label</th>\n",
       "    </tr>\n",
       "  </thead>\n",
       "  <tbody>\n",
       "    <tr>\n",
       "      <th>0</th>\n",
       "      <td>me quise ligar a una chava ayer y no me pelo l...</td>\n",
       "      <td>0</td>\n",
       "    </tr>\n",
       "    <tr>\n",
       "      <th>1</th>\n",
       "      <td>eres un puñal papayita</td>\n",
       "      <td>0</td>\n",
       "    </tr>\n",
       "    <tr>\n",
       "      <th>2</th>\n",
       "      <td>magnate ofrece mdd al hombre que conquiste a s...</td>\n",
       "      <td>0</td>\n",
       "    </tr>\n",
       "    <tr>\n",
       "      <th>3</th>\n",
       "      <td>los trolebuses del desgobierno de son idiotas ...</td>\n",
       "      <td>0</td>\n",
       "    </tr>\n",
       "    <tr>\n",
       "      <th>4</th>\n",
       "      <td>en epoca de hitler no se decia eres gay y si e...</td>\n",
       "      <td>0</td>\n",
       "    </tr>\n",
       "  </tbody>\n",
       "</table>\n",
       "</div>"
      ],
      "text/plain": [
       "                                              tweets  label\n",
       "0  me quise ligar a una chava ayer y no me pelo l...      0\n",
       "1                             eres un puñal papayita      0\n",
       "2  magnate ofrece mdd al hombre que conquiste a s...      0\n",
       "3  los trolebuses del desgobierno de son idiotas ...      0\n",
       "4  en epoca de hitler no se decia eres gay y si e...      0"
      ]
     },
     "execution_count": 10,
     "metadata": {},
     "output_type": "execute_result"
    }
   ],
   "source": [
    "data = pd.read_csv('/home/cesarms/Documents/CIC/Doctorado/HomoMex/corpus/preprocessed/train/task1_preprocessed.csv')\n",
    "\n",
    "label_map = {'P' : 0,\n",
    "             'NP' : 1,\n",
    "             np.nan : 2}\n",
    "\n",
    "data.label.replace(label_map, inplace= True)\n",
    "data = data.astype({'tweets' : 'str', 'label' : 'int'})\n",
    "data.head()"
   ]
  },
  {
   "cell_type": "code",
   "execution_count": 3,
   "metadata": {},
   "outputs": [],
   "source": [
    "def preprocess(input_text, tokenizer):\n",
    "    return tokenizer.encode_plus(input_text,\n",
    "                                 add_special_tokens = True,\n",
    "                                 max_length = 512,\n",
    "                                 pad_to_max_length = True,\n",
    "                                 return_attention_mask = True,\n",
    "                                 return_tensors = 'pt')"
   ]
  },
  {
   "cell_type": "code",
   "execution_count": 5,
   "metadata": {},
   "outputs": [],
   "source": [
    "texts = list(data.tweets)\n",
    "labels = list(data.label)"
   ]
  },
  {
   "cell_type": "code",
   "execution_count": 4,
   "metadata": {},
   "outputs": [],
   "source": [
    "tokenizer = BertTokenizer.from_pretrained('dccuchile/bert-base-spanish-wwm-uncased',\n",
    "                                          do_lower_case = True)"
   ]
  },
  {
   "cell_type": "code",
   "execution_count": 7,
   "metadata": {},
   "outputs": [
    {
     "name": "stderr",
     "output_type": "stream",
     "text": [
      "Truncation was not explicitly activated but `max_length` is provided a specific value, please use `truncation=True` to explicitly truncate examples to max length. Defaulting to 'longest_first' truncation strategy. If you encode pairs of sequences (GLUE-style) with the tokenizer you can select this strategy more precisely by providing a specific strategy to `truncation`.\n",
      "/home/cesarms/miniconda3/envs/test_tf/lib/python3.9/site-packages/transformers/tokenization_utils_base.py:2346: FutureWarning: The `pad_to_max_length` argument is deprecated and will be removed in a future version, use `padding=True` or `padding='longest'` to pad to the longest sequence in the batch, or use `padding='max_length'` to pad to a max length. In this case, you can give a specific length with `max_length` (e.g. `max_length=45`) or leave max_length to None to pad to the maximal input size of the model (e.g. 512 for Bert).\n",
      "  warnings.warn(\n"
     ]
    }
   ],
   "source": [
    "token_id = []\n",
    "attention_masks = []\n",
    "\n",
    "for sample in texts:\n",
    "    encoding_dict = preprocess(sample, tokenizer)\n",
    "    token_id.append(encoding_dict['input_ids'])\n",
    "    attention_masks.append(encoding_dict['attention_mask'])\n",
    "\n",
    "token_id = torch.cat(token_id, dim= 0)\n",
    "attention_masks = torch.cat(attention_masks, dim= 0)\n",
    "labels = torch.tensor(labels)"
   ]
  },
  {
   "cell_type": "code",
   "execution_count": 8,
   "metadata": {},
   "outputs": [],
   "source": [
    "val_ratio = 0.05\n",
    "batch_size = 8\n",
    "random_state = 42\n",
    "\n",
    "train_idx, val_idx = train_test_split(np.arange(len(labels)),\n",
    "                                      test_size= val_ratio,\n",
    "                                      shuffle= True,\n",
    "                                      stratify= labels,\n",
    "                                      random_state= random_state)\n",
    "\n",
    "# train and validation sets\n",
    "train_set = TensorDataset(token_id[train_idx],\n",
    "                          attention_masks[train_idx],\n",
    "                          labels[train_idx])\n",
    "\n",
    "val_set = TensorDataset(token_id[val_idx],\n",
    "                        attention_masks[val_idx],\n",
    "                        labels[val_idx])\n",
    "\n",
    "# Dataloaders\n",
    "\n",
    "train_dataloader = DataLoader(train_set,\n",
    "                              sampler= RandomSampler(train_set),\n",
    "                              batch_size = batch_size)\n",
    "\n",
    "validation_dataloader = DataLoader(val_set,\n",
    "                                   sampler= SequentialSampler(val_set),\n",
    "                                   batch_size= batch_size)"
   ]
  },
  {
   "cell_type": "code",
   "execution_count": null,
   "metadata": {},
   "outputs": [],
   "source": [
    "model = BertForSequenceClassification.from_pretrained('dccuchile/bert-base-spanish-wwm-uncased',\n",
    "                                                      num_labels = len(label_map),\n",
    "                                                      output_attentions = False,\n",
    "                                                      output_hidden_states = False)"
   ]
  },
  {
   "cell_type": "code",
   "execution_count": 15,
   "metadata": {},
   "outputs": [
    {
     "name": "stderr",
     "output_type": "stream",
     "text": [
      "/home/cesarms/miniconda3/envs/test_tf/lib/python3.9/site-packages/transformers/optimization.py:391: FutureWarning: This implementation of AdamW is deprecated and will be removed in a future version. Use the PyTorch implementation torch.optim.AdamW instead, or set `no_deprecation_warning=True` to disable this warning\n",
      "  warnings.warn(\n"
     ]
    }
   ],
   "source": [
    "optimizer = AdamW(model.parameters(),\n",
    "                   lr = 1e-7,\n",
    "                   eps= 1e-9)\n",
    "\n",
    "model.cuda()\n",
    "\n",
    "epochs = 5\n",
    "\n",
    "scheduler = get_linear_schedule_with_warmup(optimizer,\n",
    "                                           num_warmup_steps= 0,\n",
    "                                           num_training_steps= len(train_dataloader)*epochs)"
   ]
  },
  {
   "cell_type": "code",
   "execution_count": 8,
   "metadata": {},
   "outputs": [
    {
     "data": {
      "text/plain": [
       "device(type='cuda')"
      ]
     },
     "execution_count": 8,
     "metadata": {},
     "output_type": "execute_result"
    }
   ],
   "source": [
    "device = torch.device('cuda' if torch.cuda.is_available() else 'cpu')\n",
    "device"
   ]
  },
  {
   "cell_type": "code",
   "execution_count": 29,
   "metadata": {},
   "outputs": [],
   "source": [
    "def b_metrics(preds, labels):\n",
    "    preds_flat = np.argmax(preds, axis= 1).flatten()\n",
    "    labels_flat = labels.flatten()\n",
    "\n",
    "    b_accuracy = accuracy_score(labels_flat, preds_flat)\n",
    "    b_precision = precision_score(labels_flat, preds_flat, average= 'macro')\n",
    "    b_recall = recall_score(labels_flat, preds_flat, average= 'macro')\n",
    "    b_f1 = f1_score(labels_flat, preds_flat, average= 'macro')\n",
    "\n",
    "    return b_accuracy, b_precision, b_recall, b_f1"
   ]
  },
  {
   "cell_type": "code",
   "execution_count": 30,
   "metadata": {},
   "outputs": [],
   "source": [
    "seed_val = 42\n",
    "random.seed(seed_val)\n",
    "\n",
    "def evaluate(dataloader):\n",
    "    model.eval()\n",
    "\n",
    "    predictions, true_vals = [], []\n",
    "\n",
    "    loss_val_total = 0\n",
    "\n",
    "    for batch in dataloader:\n",
    "        batch = tuple(t.to(device) for t in batch)\n",
    "\n",
    "        inputs = {\n",
    "            'input_ids' : batch[0],\n",
    "            'attention_mask' : batch[1],\n",
    "            'labels' : batch[2]\n",
    "        }\n",
    "\n",
    "        with torch.no_grad():\n",
    "            outputs = model(**inputs)\n",
    "\n",
    "        loss = outputs[0]\n",
    "        logits = outputs[1]\n",
    "        loss_val_total += loss.item()\n",
    "\n",
    "        logits = logits.detach().cpu().numpy()\n",
    "        label_ids = inputs['labels'].cpu().numpy()\n",
    "        predictions.append(logits)\n",
    "        true_vals.append(label_ids)\n",
    "\n",
    "    loss_val_avg = loss_val_total / len(dataloader)\n",
    "\n",
    "    predictions = np.concatenate(predictions, axis = 0)\n",
    "    true_vals = np.concatenate(true_vals, axis = 0)\n",
    "\n",
    "    return loss_val_avg, predictions, true_vals"
   ]
  },
  {
   "cell_type": "code",
   "execution_count": 31,
   "metadata": {},
   "outputs": [],
   "source": [
    "from tqdm.notebook import tqdm"
   ]
  },
  {
   "cell_type": "code",
   "execution_count": 32,
   "metadata": {},
   "outputs": [
    {
     "data": {
      "application/vnd.jupyter.widget-view+json": {
       "model_id": "f7ea3d666c3340c08f418d18c01a0d8f",
       "version_major": 2,
       "version_minor": 0
      },
      "text/plain": [
       "  0%|          | 0/5 [00:00<?, ?it/s]"
      ]
     },
     "metadata": {},
     "output_type": "display_data"
    },
    {
     "data": {
      "application/vnd.jupyter.widget-view+json": {
       "model_id": "3f73e94481e844f9b73d6f946c479998",
       "version_major": 2,
       "version_minor": 0
      },
      "text/plain": [
       "Epoch 1:   0%|          | 0/832 [00:00<?, ?it/s]"
      ]
     },
     "metadata": {},
     "output_type": "display_data"
    },
    {
     "name": "stdout",
     "output_type": "stream",
     "text": [
      "\n",
      "Epoch 1\n",
      "Validation loss: 0.868015127425844\n",
      "Accuracy: 0.6285714285714286\n",
      "Precision (Macro): 0.5421455938697318\n",
      "Recall (macro): 0.3408239700374532\n",
      "F1-score (macro): 0.27142468838581907\n"
     ]
    },
    {
     "name": "stderr",
     "output_type": "stream",
     "text": [
      "/home/cesarms/miniconda3/envs/test_tf/lib/python3.9/site-packages/sklearn/metrics/_classification.py:1344: UndefinedMetricWarning: Precision is ill-defined and being set to 0.0 in labels with no predicted samples. Use `zero_division` parameter to control this behavior.\n",
      "  _warn_prf(average, modifier, msg_start, len(result))\n"
     ]
    },
    {
     "data": {
      "application/vnd.jupyter.widget-view+json": {
       "model_id": "35406bb474f44029aeaf95105ec07880",
       "version_major": 2,
       "version_minor": 0
      },
      "text/plain": [
       "Epoch 2:   0%|          | 0/832 [00:00<?, ?it/s]"
      ]
     },
     "metadata": {},
     "output_type": "display_data"
    },
    {
     "name": "stdout",
     "output_type": "stream",
     "text": [
      "\n",
      "Epoch 2\n",
      "Validation loss: 0.8533325561068275\n",
      "Accuracy: 0.6314285714285715\n",
      "Precision (Macro): 0.542747358309318\n",
      "Recall (macro): 0.3445692883895131\n",
      "F1-score (macro): 0.27896626907785044\n"
     ]
    },
    {
     "name": "stderr",
     "output_type": "stream",
     "text": [
      "/home/cesarms/miniconda3/envs/test_tf/lib/python3.9/site-packages/sklearn/metrics/_classification.py:1344: UndefinedMetricWarning: Precision is ill-defined and being set to 0.0 in labels with no predicted samples. Use `zero_division` parameter to control this behavior.\n",
      "  _warn_prf(average, modifier, msg_start, len(result))\n"
     ]
    },
    {
     "data": {
      "application/vnd.jupyter.widget-view+json": {
       "model_id": "259c052f1cb344e78d0d2435afdf87f2",
       "version_major": 2,
       "version_minor": 0
      },
      "text/plain": [
       "Epoch 3:   0%|          | 0/832 [00:00<?, ?it/s]"
      ]
     },
     "metadata": {},
     "output_type": "display_data"
    },
    {
     "name": "stdout",
     "output_type": "stream",
     "text": [
      "\n",
      "Epoch 3\n",
      "Validation loss: 0.8460382148623466\n",
      "Accuracy: 0.6314285714285715\n",
      "Precision (Macro): 0.542747358309318\n",
      "Recall (macro): 0.3445692883895131\n",
      "F1-score (macro): 0.27896626907785044\n"
     ]
    },
    {
     "name": "stderr",
     "output_type": "stream",
     "text": [
      "/home/cesarms/miniconda3/envs/test_tf/lib/python3.9/site-packages/sklearn/metrics/_classification.py:1344: UndefinedMetricWarning: Precision is ill-defined and being set to 0.0 in labels with no predicted samples. Use `zero_division` parameter to control this behavior.\n",
      "  _warn_prf(average, modifier, msg_start, len(result))\n"
     ]
    },
    {
     "data": {
      "application/vnd.jupyter.widget-view+json": {
       "model_id": "6dc66370adbc404399cdb701e5e68af8",
       "version_major": 2,
       "version_minor": 0
      },
      "text/plain": [
       "Epoch 4:   0%|          | 0/832 [00:00<?, ?it/s]"
      ]
     },
     "metadata": {},
     "output_type": "display_data"
    },
    {
     "name": "stdout",
     "output_type": "stream",
     "text": [
      "\n",
      "Epoch 4\n",
      "Validation loss: 0.8436419347470457\n",
      "Accuracy: 0.6314285714285715\n",
      "Precision (Macro): 0.542747358309318\n",
      "Recall (macro): 0.3445692883895131\n",
      "F1-score (macro): 0.27896626907785044\n"
     ]
    },
    {
     "name": "stderr",
     "output_type": "stream",
     "text": [
      "/home/cesarms/miniconda3/envs/test_tf/lib/python3.9/site-packages/sklearn/metrics/_classification.py:1344: UndefinedMetricWarning: Precision is ill-defined and being set to 0.0 in labels with no predicted samples. Use `zero_division` parameter to control this behavior.\n",
      "  _warn_prf(average, modifier, msg_start, len(result))\n"
     ]
    },
    {
     "data": {
      "application/vnd.jupyter.widget-view+json": {
       "model_id": "5b750653e6b6454abe6fdad8f9ea61fb",
       "version_major": 2,
       "version_minor": 0
      },
      "text/plain": [
       "Epoch 5:   0%|          | 0/832 [00:00<?, ?it/s]"
      ]
     },
     "metadata": {},
     "output_type": "display_data"
    },
    {
     "name": "stdout",
     "output_type": "stream",
     "text": [
      "\n",
      "Epoch 5\n",
      "Validation loss: 0.8436419347470457\n",
      "Accuracy: 0.6314285714285715\n",
      "Precision (Macro): 0.542747358309318\n",
      "Recall (macro): 0.3445692883895131\n",
      "F1-score (macro): 0.27896626907785044\n"
     ]
    },
    {
     "name": "stderr",
     "output_type": "stream",
     "text": [
      "/home/cesarms/miniconda3/envs/test_tf/lib/python3.9/site-packages/sklearn/metrics/_classification.py:1344: UndefinedMetricWarning: Precision is ill-defined and being set to 0.0 in labels with no predicted samples. Use `zero_division` parameter to control this behavior.\n",
      "  _warn_prf(average, modifier, msg_start, len(result))\n"
     ]
    }
   ],
   "source": [
    "for epoch in tqdm(range(1, epochs+1)):\n",
    "    model.train()\n",
    "\n",
    "    train_loss = 0\n",
    "    nb_tr_examples, nb_tr_steps = 0, 0\n",
    "    progress_bar = tqdm(train_dataloader,\n",
    "                        desc= 'Epoch {:1d}'.format(epoch),\n",
    "                        leave= False,\n",
    "                        disable= False)\n",
    "\n",
    "    for batch in progress_bar:\n",
    "        model.zero_grad()\n",
    "\n",
    "        batch = tuple(t.to(device) for t in batch)\n",
    "\n",
    "        inputs = {\n",
    "            'input_ids' : batch[0],\n",
    "            'attention_mask' : batch[1],\n",
    "            'labels' : batch[2]\n",
    "        }\n",
    "\n",
    "        train_outputs = model(**inputs)\n",
    "\n",
    "        loss = train_outputs[0]\n",
    "        train_loss += loss.item()\n",
    "        loss.backward()\n",
    "\n",
    "        torch.nn.utils.clip_grad_norm_(model.parameters(), 1.0)\n",
    "\n",
    "        optimizer.step()\n",
    "        scheduler.step()\n",
    "\n",
    "\n",
    "        progress_bar.set_postfix({'training_loss' : '{:3f}'.format(loss.item() / len(batch))})\n",
    "\n",
    "    torch.save(model.state_dict(), f'data_volume/finetuned_BETO_epoch_{epoch}.model')\n",
    "\n",
    "    tqdm.write(f'\\nEpoch {epoch}')\n",
    "    val_loss, predictions, true_vals = evaluate(validation_dataloader)\n",
    "    val_accuracy, val_precision, val_recall, val_f1 = b_metrics(predictions, true_vals)\n",
    "    tqdm.write(f'Validation loss: {val_loss}')\n",
    "    tqdm.write(f'Accuracy: {val_accuracy}')\n",
    "    tqdm.write(f'Precision (Macro): {val_precision}')\n",
    "    tqdm.write(f'Recall (macro): {val_recall}')\n",
    "    tqdm.write(f'F1-score (macro): {val_f1}')"
   ]
  },
  {
   "cell_type": "code",
   "execution_count": 11,
   "metadata": {},
   "outputs": [
    {
     "name": "stderr",
     "output_type": "stream",
     "text": [
      "Some weights of the model checkpoint at dccuchile/bert-base-spanish-wwm-uncased were not used when initializing BertForSequenceClassification: ['cls.predictions.decoder.bias', 'cls.predictions.transform.LayerNorm.bias', 'cls.predictions.decoder.weight', 'cls.predictions.transform.dense.bias', 'cls.predictions.transform.LayerNorm.weight', 'cls.predictions.bias', 'cls.predictions.transform.dense.weight']\n",
      "- This IS expected if you are initializing BertForSequenceClassification from the checkpoint of a model trained on another task or with another architecture (e.g. initializing a BertForSequenceClassification model from a BertForPreTraining model).\n",
      "- This IS NOT expected if you are initializing BertForSequenceClassification from the checkpoint of a model that you expect to be exactly identical (initializing a BertForSequenceClassification model from a BertForSequenceClassification model).\n",
      "Some weights of BertForSequenceClassification were not initialized from the model checkpoint at dccuchile/bert-base-spanish-wwm-uncased and are newly initialized: ['bert.pooler.dense.weight', 'classifier.weight', 'classifier.bias', 'bert.pooler.dense.bias']\n",
      "You should probably TRAIN this model on a down-stream task to be able to use it for predictions and inference.\n"
     ]
    },
    {
     "data": {
      "text/plain": [
       "<All keys matched successfully>"
      ]
     },
     "execution_count": 11,
     "metadata": {},
     "output_type": "execute_result"
    }
   ],
   "source": [
    "model = BertForSequenceClassification.from_pretrained('dccuchile/bert-base-spanish-wwm-uncased',\n",
    "                                                      num_labels = len(label_map),\n",
    "                                                      output_attentions = False,\n",
    "                                                      output_hidden_states = False)\n",
    "\n",
    "model.to(device)\n",
    "\n",
    "model.load_state_dict(torch.load('data_volume/finetuned_BETO_epoch_5.model', map_location= torch.device('cpu')))\n",
    "\n"
   ]
  },
  {
   "cell_type": "code",
   "execution_count": 7,
   "metadata": {},
   "outputs": [
    {
     "data": {
      "text/html": [
       "<div>\n",
       "<style scoped>\n",
       "    .dataframe tbody tr th:only-of-type {\n",
       "        vertical-align: middle;\n",
       "    }\n",
       "\n",
       "    .dataframe tbody tr th {\n",
       "        vertical-align: top;\n",
       "    }\n",
       "\n",
       "    .dataframe thead th {\n",
       "        text-align: right;\n",
       "    }\n",
       "</style>\n",
       "<table border=\"1\" class=\"dataframe\">\n",
       "  <thead>\n",
       "    <tr style=\"text-align: right;\">\n",
       "      <th></th>\n",
       "      <th>content</th>\n",
       "    </tr>\n",
       "  </thead>\n",
       "  <tbody>\n",
       "    <tr>\n",
       "      <th>0</th>\n",
       "      <td>sera que mi perrita es lesbiana o</td>\n",
       "    </tr>\n",
       "    <tr>\n",
       "      <th>1</th>\n",
       "      <td>quiero una amiga lencha te vaz a mudar y no ti...</td>\n",
       "    </tr>\n",
       "    <tr>\n",
       "      <th>2</th>\n",
       "      <td>ash la jotita del programa hoy no deja de deci...</td>\n",
       "    </tr>\n",
       "    <tr>\n",
       "      <th>3</th>\n",
       "      <td>en una boda gay les avientan arroz con popote</td>\n",
       "    </tr>\n",
       "    <tr>\n",
       "      <th>4</th>\n",
       "      <td>sos mas facil que la tabla del puta</td>\n",
       "    </tr>\n",
       "  </tbody>\n",
       "</table>\n",
       "</div>"
      ],
      "text/plain": [
       "                                             content\n",
       "0                  sera que mi perrita es lesbiana o\n",
       "1  quiero una amiga lencha te vaz a mudar y no ti...\n",
       "2  ash la jotita del programa hoy no deja de deci...\n",
       "3      en una boda gay les avientan arroz con popote\n",
       "4                sos mas facil que la tabla del puta"
      ]
     },
     "execution_count": 7,
     "metadata": {},
     "output_type": "execute_result"
    }
   ],
   "source": [
    "test_set = pd.read_csv('/home/cesarms/Documents/CIC/Doctorado/HomoMex/corpus/preprocessed/test/test_data_preprocessed_homomex_track_1.csv')\n",
    "test_set.head()"
   ]
  },
  {
   "cell_type": "code",
   "execution_count": 14,
   "metadata": {},
   "outputs": [
    {
     "data": {
      "text/plain": [
       "'sera que mi perrita es lesbiana o'"
      ]
     },
     "execution_count": 14,
     "metadata": {},
     "output_type": "execute_result"
    }
   ],
   "source": [
    "test_texts = list(test_set.content)\n",
    "test_texts[0]"
   ]
  },
  {
   "cell_type": "code",
   "execution_count": 16,
   "metadata": {},
   "outputs": [
    {
     "name": "stderr",
     "output_type": "stream",
     "text": [
      "/home/cesarms/miniconda3/envs/test_tf/lib/python3.9/site-packages/transformers/tokenization_utils_base.py:2346: FutureWarning: The `pad_to_max_length` argument is deprecated and will be removed in a future version, use `padding=True` or `padding='longest'` to pad to the longest sequence in the batch, or use `padding='max_length'` to pad to a max length. In this case, you can give a specific length with `max_length` (e.g. `max_length=45`) or leave max_length to None to pad to the maximal input size of the model (e.g. 512 for Bert).\n",
      "  warnings.warn(\n"
     ]
    }
   ],
   "source": [
    "token_id_test = []\n",
    "attention_masks_test = []\n",
    "\n",
    "for sample in test_texts:\n",
    "    encoding_dict = preprocess(sample, tokenizer)\n",
    "    token_id_test.append(encoding_dict['input_ids'])\n",
    "    attention_masks_test.append(encoding_dict['attention_mask'])\n",
    "\n",
    "token_id_test = torch.cat(token_id_test, dim= 0)\n",
    "attention_masks_test = torch.cat(attention_masks_test, dim= 0)"
   ]
  },
  {
   "cell_type": "code",
   "execution_count": 19,
   "metadata": {},
   "outputs": [],
   "source": [
    "batch_size = 8\n",
    "test_corpus = TensorDataset(token_id_test,\n",
    "                            attention_masks_test)\n",
    " \n",
    "test_dataloader = DataLoader(test_corpus,\n",
    "                              sampler= RandomSampler(test_corpus),\n",
    "                              batch_size = batch_size)"
   ]
  },
  {
   "cell_type": "code",
   "execution_count": 45,
   "metadata": {},
   "outputs": [],
   "source": [
    "def obtain_label(text, tokenizer):\n",
    "    test_ids = []\n",
    "    test_attention_mask = []\n",
    "    \n",
    "    #apply the tokenizer\n",
    "    encoding = preprocess(text, tokenizer)\n",
    "\n",
    "    #Extract ids and attention mask\n",
    "    test_ids.append(encoding['input_ids'])\n",
    "    test_attention_mask.append(encoding['attention_mask'])\n",
    "    test_ids = torch.cat(test_ids, dim= 0)\n",
    "    test_attention_mask = torch.cat(test_attention_mask, dim= 0)\n",
    "\n",
    "    # Forward pass\n",
    "\n",
    "    with torch.no_grad():\n",
    "        output = model(test_ids.to(device),\n",
    "                       token_type_ids = None,\n",
    "                       attention_mask = test_attention_mask.to(device))\n",
    "    \n",
    "    prediction = np.argmax(output.logits.cpu().numpy(), axis= 1).flatten().item()\n",
    "\n",
    "    return prediction    "
   ]
  },
  {
   "cell_type": "code",
   "execution_count": 46,
   "metadata": {},
   "outputs": [
    {
     "name": "stderr",
     "output_type": "stream",
     "text": [
      "/home/cesarms/miniconda3/envs/test_tf/lib/python3.9/site-packages/transformers/tokenization_utils_base.py:2346: FutureWarning: The `pad_to_max_length` argument is deprecated and will be removed in a future version, use `padding=True` or `padding='longest'` to pad to the longest sequence in the batch, or use `padding='max_length'` to pad to a max length. In this case, you can give a specific length with `max_length` (e.g. `max_length=45`) or leave max_length to None to pad to the maximal input size of the model (e.g. 512 for Bert).\n",
      "  warnings.warn(\n"
     ]
    }
   ],
   "source": [
    "predictions = []\n",
    "\n",
    "for tweet in test_texts:\n",
    "    prediction = obtain_label(tweet, tokenizer)\n",
    "\n",
    "    predictions.append(prediction)\n",
    "    "
   ]
  },
  {
   "cell_type": "code",
   "execution_count": 59,
   "metadata": {},
   "outputs": [
    {
     "data": {
      "text/html": [
       "<div>\n",
       "<style scoped>\n",
       "    .dataframe tbody tr th:only-of-type {\n",
       "        vertical-align: middle;\n",
       "    }\n",
       "\n",
       "    .dataframe tbody tr th {\n",
       "        vertical-align: top;\n",
       "    }\n",
       "\n",
       "    .dataframe thead th {\n",
       "        text-align: right;\n",
       "    }\n",
       "</style>\n",
       "<table border=\"1\" class=\"dataframe\">\n",
       "  <thead>\n",
       "    <tr style=\"text-align: right;\">\n",
       "      <th></th>\n",
       "      <th>task_name</th>\n",
       "      <th>identifier</th>\n",
       "      <th>class</th>\n",
       "    </tr>\n",
       "  </thead>\n",
       "  <tbody>\n",
       "    <tr>\n",
       "      <th>0</th>\n",
       "      <td>LGBTphobiaDetectionMultiClass</td>\n",
       "      <td>1</td>\n",
       "      <td>1</td>\n",
       "    </tr>\n",
       "    <tr>\n",
       "      <th>1</th>\n",
       "      <td>LGBTphobiaDetectionMultiClass</td>\n",
       "      <td>2</td>\n",
       "      <td>1</td>\n",
       "    </tr>\n",
       "    <tr>\n",
       "      <th>2</th>\n",
       "      <td>LGBTphobiaDetectionMultiClass</td>\n",
       "      <td>3</td>\n",
       "      <td>1</td>\n",
       "    </tr>\n",
       "    <tr>\n",
       "      <th>3</th>\n",
       "      <td>LGBTphobiaDetectionMultiClass</td>\n",
       "      <td>4</td>\n",
       "      <td>1</td>\n",
       "    </tr>\n",
       "    <tr>\n",
       "      <th>4</th>\n",
       "      <td>LGBTphobiaDetectionMultiClass</td>\n",
       "      <td>5</td>\n",
       "      <td>1</td>\n",
       "    </tr>\n",
       "  </tbody>\n",
       "</table>\n",
       "</div>"
      ],
      "text/plain": [
       "                       task_name identifier  class\n",
       "0  LGBTphobiaDetectionMultiClass          1      1\n",
       "1  LGBTphobiaDetectionMultiClass          2      1\n",
       "2  LGBTphobiaDetectionMultiClass          3      1\n",
       "3  LGBTphobiaDetectionMultiClass          4      1\n",
       "4  LGBTphobiaDetectionMultiClass          5      1"
      ]
     },
     "execution_count": 59,
     "metadata": {},
     "output_type": "execute_result"
    }
   ],
   "source": [
    "test_predictions = pd.DataFrame()\n",
    "test_predictions['task_name'] = [\"LGBTphobiaDetectionMultiClass\" for i in range(len(predictions))]\n",
    "test_predictions['identifier'] = [f\"{i + 1}\" for i in range(len(predictions))]\n",
    "test_predictions['class'] = predictions\n",
    "test_predictions.head()"
   ]
  },
  {
   "cell_type": "code",
   "execution_count": 60,
   "metadata": {},
   "outputs": [
    {
     "data": {
      "text/plain": [
       "class\n",
       "1    3970\n",
       "2      30\n",
       "Name: count, dtype: int64"
      ]
     },
     "execution_count": 60,
     "metadata": {},
     "output_type": "execute_result"
    }
   ],
   "source": [
    "test_predictions['class'].value_counts()"
   ]
  },
  {
   "cell_type": "code",
   "execution_count": 61,
   "metadata": {},
   "outputs": [
    {
     "data": {
      "text/html": [
       "<div>\n",
       "<style scoped>\n",
       "    .dataframe tbody tr th:only-of-type {\n",
       "        vertical-align: middle;\n",
       "    }\n",
       "\n",
       "    .dataframe tbody tr th {\n",
       "        vertical-align: top;\n",
       "    }\n",
       "\n",
       "    .dataframe thead th {\n",
       "        text-align: right;\n",
       "    }\n",
       "</style>\n",
       "<table border=\"1\" class=\"dataframe\">\n",
       "  <thead>\n",
       "    <tr style=\"text-align: right;\">\n",
       "      <th></th>\n",
       "      <th>task_name</th>\n",
       "      <th>identifier</th>\n",
       "      <th>class</th>\n",
       "    </tr>\n",
       "  </thead>\n",
       "  <tbody>\n",
       "    <tr>\n",
       "      <th>0</th>\n",
       "      <td>LGBTphobiaDetectionMultiClass</td>\n",
       "      <td>1</td>\n",
       "      <td>NP</td>\n",
       "    </tr>\n",
       "    <tr>\n",
       "      <th>1</th>\n",
       "      <td>LGBTphobiaDetectionMultiClass</td>\n",
       "      <td>2</td>\n",
       "      <td>NP</td>\n",
       "    </tr>\n",
       "    <tr>\n",
       "      <th>2</th>\n",
       "      <td>LGBTphobiaDetectionMultiClass</td>\n",
       "      <td>3</td>\n",
       "      <td>NP</td>\n",
       "    </tr>\n",
       "    <tr>\n",
       "      <th>3</th>\n",
       "      <td>LGBTphobiaDetectionMultiClass</td>\n",
       "      <td>4</td>\n",
       "      <td>NP</td>\n",
       "    </tr>\n",
       "    <tr>\n",
       "      <th>4</th>\n",
       "      <td>LGBTphobiaDetectionMultiClass</td>\n",
       "      <td>5</td>\n",
       "      <td>NP</td>\n",
       "    </tr>\n",
       "  </tbody>\n",
       "</table>\n",
       "</div>"
      ],
      "text/plain": [
       "                       task_name identifier class\n",
       "0  LGBTphobiaDetectionMultiClass          1    NP\n",
       "1  LGBTphobiaDetectionMultiClass          2    NP\n",
       "2  LGBTphobiaDetectionMultiClass          3    NP\n",
       "3  LGBTphobiaDetectionMultiClass          4    NP\n",
       "4  LGBTphobiaDetectionMultiClass          5    NP"
      ]
     },
     "execution_count": 61,
     "metadata": {},
     "output_type": "execute_result"
    }
   ],
   "source": [
    "class_map = {0 : \"P\",\n",
    "             1 : \"NP\",\n",
    "             2 : \"NA\"}\n",
    "test_predictions['class'].replace(class_map, inplace=True)\n",
    "test_predictions.head()"
   ]
  },
  {
   "cell_type": "code",
   "execution_count": 62,
   "metadata": {},
   "outputs": [
    {
     "data": {
      "text/plain": [
       "class\n",
       "NP    3970\n",
       "NA      30\n",
       "Name: count, dtype: int64"
      ]
     },
     "execution_count": 62,
     "metadata": {},
     "output_type": "execute_result"
    }
   ],
   "source": [
    "test_predictions['class'].value_counts()"
   ]
  },
  {
   "cell_type": "code",
   "execution_count": 64,
   "metadata": {},
   "outputs": [],
   "source": [
    "test_predictions.to_csv('beto_predictions_task_1.txt', sep= '\\t', index= False, header= False)"
   ]
  },
  {
   "cell_type": "code",
   "execution_count": 65,
   "metadata": {},
   "outputs": [],
   "source": [
    "str_preds = []\n",
    "for pred in predictions:\n",
    "    if pred == 0:\n",
    "        p = \"P\"\n",
    "    elif pred == 1:\n",
    "        p = \"NP\"\n",
    "    elif pred == 2:\n",
    "        p = \"NA\"\n",
    "    \n",
    "    str_preds.append(p)\n"
   ]
  },
  {
   "cell_type": "code",
   "execution_count": 66,
   "metadata": {},
   "outputs": [
    {
     "data": {
      "text/plain": [
       "'NP'"
      ]
     },
     "execution_count": 66,
     "metadata": {},
     "output_type": "execute_result"
    }
   ],
   "source": [
    "str_preds[0]"
   ]
  },
  {
   "cell_type": "code",
   "execution_count": 91,
   "metadata": {},
   "outputs": [],
   "source": [
    "rows = []\n",
    "for i, pred in enumerate(str_preds):\n",
    "    row = '\"LGBTphobiaDetectionMultiClass\"' + '\\t' + f'\"{i+1}\"' + '\\t' + f'\"{pred}\"' + '\\n'\n",
    "\n",
    "    rows.append(row)"
   ]
  },
  {
   "cell_type": "code",
   "execution_count": 92,
   "metadata": {},
   "outputs": [
    {
     "data": {
      "text/plain": [
       "['\"LGBTphobiaDetectionMultiClass\"\\t\"1\"\\t\"NP\"\\n',\n",
       " '\"LGBTphobiaDetectionMultiClass\"\\t\"2\"\\t\"NP\"\\n',\n",
       " '\"LGBTphobiaDetectionMultiClass\"\\t\"3\"\\t\"NP\"\\n']"
      ]
     },
     "execution_count": 92,
     "metadata": {},
     "output_type": "execute_result"
    }
   ],
   "source": [
    "rows[:3]"
   ]
  },
  {
   "cell_type": "code",
   "execution_count": 94,
   "metadata": {},
   "outputs": [],
   "source": [
    "with open('beto_predictions_task1.txt', 'w') as f:\n",
    "    f.writelines(rows)"
   ]
  },
  {
   "cell_type": "code",
   "execution_count": null,
   "metadata": {},
   "outputs": [],
   "source": []
  }
 ],
 "metadata": {
  "kernelspec": {
   "display_name": "Python 3 (ipykernel)",
   "language": "python",
   "name": "python3"
  },
  "language_info": {
   "codemirror_mode": {
    "name": "ipython",
    "version": 3
   },
   "file_extension": ".py",
   "mimetype": "text/x-python",
   "name": "python",
   "nbconvert_exporter": "python",
   "pygments_lexer": "ipython3",
   "version": "3.9.16"
  }
 },
 "nbformat": 4,
 "nbformat_minor": 2
}
